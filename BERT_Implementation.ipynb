{
  "cells": [
    {
      "cell_type": "code",
      "execution_count": null,
      "metadata": {
        "colab": {
          "base_uri": "https://localhost:8080/"
        },
        "id": "xXITfyKsN5u1",
        "outputId": "cb25e17b-415f-4c4c-e0a1-39994dbd191f"
      },
      "outputs": [
        {
          "name": "stdout",
          "output_type": "stream",
          "text": [
            "Mounted at /content/drive\n"
          ]
        }
      ],
      "source": [
        "from google.colab import drive\n",
        "drive.mount(\"/content/drive\")"
      ]
    },
    {
      "cell_type": "code",
      "execution_count": null,
      "metadata": {
        "colab": {
          "base_uri": "https://localhost:8080/"
        },
        "id": "pyAGKvhuVRek",
        "outputId": "a05593f3-718c-4ca4-8530-19f584b70997"
      },
      "outputs": [
        {
          "name": "stdout",
          "output_type": "stream",
          "text": [
            "/content/drive/Shareddrives/41043-42850-nlp\n"
          ]
        }
      ],
      "source": [
        "%cd \"/content/drive/Shareddrives/41043-42850-nlp\""
      ]
    },
    {
      "cell_type": "code",
      "execution_count": null,
      "metadata": {
        "colab": {
          "base_uri": "https://localhost:8080/"
        },
        "id": "Jz22ENguBeiN",
        "outputId": "6f9fd966-d2f6-4310-fefb-411d7bb4fea3"
      },
      "outputs": [
        {
          "name": "stdout",
          "output_type": "stream",
          "text": [
            "\u001b[2K     \u001b[90m━━━━━━━━━━━━━━━━━━━━━━━━━━━━━━━━━━━━━━━━\u001b[0m \u001b[32m4.9/4.9 MB\u001b[0m \u001b[31m13.3 MB/s\u001b[0m eta \u001b[36m0:00:00\u001b[0m\n",
            "\u001b[2K     \u001b[90m━━━━━━━━━━━━━━━━━━━━━━━━━━━━━━━━━━━━━━━━\u001b[0m \u001b[32m498.1/498.1 MB\u001b[0m \u001b[31m1.4 MB/s\u001b[0m eta \u001b[36m0:00:00\u001b[0m\n",
            "\u001b[2K     \u001b[90m━━━━━━━━━━━━━━━━━━━━━━━━━━━━━━━━━━━━━━━━\u001b[0m \u001b[32m42.6/42.6 kB\u001b[0m \u001b[31m4.1 MB/s\u001b[0m eta \u001b[36m0:00:00\u001b[0m\n",
            "\u001b[2K     \u001b[90m━━━━━━━━━━━━━━━━━━━━━━━━━━━━━━━━━━━━━━━━\u001b[0m \u001b[32m1.1/1.1 MB\u001b[0m \u001b[31m37.9 MB/s\u001b[0m eta \u001b[36m0:00:00\u001b[0m\n",
            "\u001b[2K     \u001b[90m━━━━━━━━━━━━━━━━━━━━━━━━━━━━━━━━━━━━━━━━\u001b[0m \u001b[32m5.8/5.8 MB\u001b[0m \u001b[31m72.5 MB/s\u001b[0m eta \u001b[36m0:00:00\u001b[0m\n",
            "\u001b[2K     \u001b[90m━━━━━━━━━━━━━━━━━━━━━━━━━━━━━━━━━━━━━━━━\u001b[0m \u001b[32m462.3/462.3 kB\u001b[0m \u001b[31m23.2 MB/s\u001b[0m eta \u001b[36m0:00:00\u001b[0m\n",
            "\u001b[2K     \u001b[90m━━━━━━━━━━━━━━━━━━━━━━━━━━━━━━━━━━━━━━━━\u001b[0m \u001b[32m1.4/1.4 MB\u001b[0m \u001b[31m53.6 MB/s\u001b[0m eta \u001b[36m0:00:00\u001b[0m\n",
            "\u001b[2K     \u001b[90m━━━━━━━━━━━━━━━━━━━━━━━━━━━━━━━━━━━━━━━━\u001b[0m \u001b[32m4.9/4.9 MB\u001b[0m \u001b[31m84.0 MB/s\u001b[0m eta \u001b[36m0:00:00\u001b[0m\n",
            "\u001b[2K     \u001b[90m━━━━━━━━━━━━━━━━━━━━━━━━━━━━━━━━━━━━━━━━\u001b[0m \u001b[32m781.3/781.3 kB\u001b[0m \u001b[31m53.9 MB/s\u001b[0m eta \u001b[36m0:00:00\u001b[0m\n",
            "\u001b[2K     \u001b[90m━━━━━━━━━━━━━━━━━━━━━━━━━━━━━━━━━━━━━━━━\u001b[0m \u001b[32m1.7/1.7 MB\u001b[0m \u001b[31m66.0 MB/s\u001b[0m eta \u001b[36m0:00:00\u001b[0m\n",
            "\u001b[2K     \u001b[90m━━━━━━━━━━━━━━━━━━━━━━━━━━━━━━━━━━━━━━━━\u001b[0m \u001b[32m1.7/1.7 MB\u001b[0m \u001b[31m51.8 MB/s\u001b[0m eta \u001b[36m0:00:00\u001b[0m\n",
            "\u001b[?25h\u001b[31mERROR: pip's dependency resolver does not currently take into account all the packages that are installed. This behaviour is the source of the following dependency conflicts.\n",
            "cudf-cu12 24.4.1 requires protobuf<5,>=3.20, but you have protobuf 3.19.6 which is incompatible.\n",
            "pandas-gbq 0.19.2 requires google-auth-oauthlib>=0.7.0, but you have google-auth-oauthlib 0.4.6 which is incompatible.\n",
            "tensorflow-datasets 4.9.4 requires protobuf>=3.20, but you have protobuf 3.19.6 which is incompatible.\n",
            "tensorflow-metadata 1.15.0 requires protobuf<4.21,>=3.20.3; python_version < \"3.11\", but you have protobuf 3.19.6 which is incompatible.\u001b[0m\u001b[31m\n",
            "\u001b[0m"
          ]
        }
      ],
      "source": [
        "# A dependency of the preprocessing for BERT inputs\n",
        "!pip install -q -U \"tensorflow-text==2.8.*\""
      ]
    },
    {
      "cell_type": "code",
      "execution_count": null,
      "metadata": {
        "colab": {
          "base_uri": "https://localhost:8080/"
        },
        "id": "MOWBRj42Bk37",
        "outputId": "93581014-89fa-4d57-a2a7-d3c87efe3c01"
      },
      "outputs": [
        {
          "name": "stdout",
          "output_type": "stream",
          "text": [
            "\u001b[2K     \u001b[90m━━━━━━━━━━━━━━━━━━━━━━━━━━━━━━━━━━━━━━━━\u001b[0m \u001b[32m1.8/1.8 MB\u001b[0m \u001b[31m9.4 MB/s\u001b[0m eta \u001b[36m0:00:00\u001b[0m\n",
            "\u001b[2K     \u001b[90m━━━━━━━━━━━━━━━━━━━━━━━━━━━━━━━━━━━━━━━━\u001b[0m \u001b[32m106.7/106.7 kB\u001b[0m \u001b[31m11.5 MB/s\u001b[0m eta \u001b[36m0:00:00\u001b[0m\n",
            "\u001b[2K     \u001b[90m━━━━━━━━━━━━━━━━━━━━━━━━━━━━━━━━━━━━━━━━\u001b[0m \u001b[32m43.6/43.6 kB\u001b[0m \u001b[31m4.7 MB/s\u001b[0m eta \u001b[36m0:00:00\u001b[0m\n",
            "\u001b[?25h  Preparing metadata (setup.py) ... \u001b[?25l\u001b[?25hdone\n",
            "\u001b[2K     \u001b[90m━━━━━━━━━━━━━━━━━━━━━━━━━━━━━━━━━━━━━━━━\u001b[0m \u001b[32m611.8/611.8 kB\u001b[0m \u001b[31m12.6 MB/s\u001b[0m eta \u001b[36m0:00:00\u001b[0m\n",
            "\u001b[2K     \u001b[90m━━━━━━━━━━━━━━━━━━━━━━━━━━━━━━━━━━━━━━━━\u001b[0m \u001b[32m242.5/242.5 kB\u001b[0m \u001b[31m11.0 MB/s\u001b[0m eta \u001b[36m0:00:00\u001b[0m\n",
            "\u001b[2K     \u001b[90m━━━━━━━━━━━━━━━━━━━━━━━━━━━━━━━━━━━━━━━━\u001b[0m \u001b[32m5.0/5.0 MB\u001b[0m \u001b[31m12.3 MB/s\u001b[0m eta \u001b[36m0:00:00\u001b[0m\n",
            "\u001b[2K     \u001b[90m━━━━━━━━━━━━━━━━━━━━━━━━━━━━━━━━━━━━━━━━\u001b[0m \u001b[32m5.4/5.4 MB\u001b[0m \u001b[31m26.0 MB/s\u001b[0m eta \u001b[36m0:00:00\u001b[0m\n",
            "\u001b[2K     \u001b[90m━━━━━━━━━━━━━━━━━━━━━━━━━━━━━━━━━━━━━━━━\u001b[0m \u001b[32m5.4/5.4 MB\u001b[0m \u001b[31m22.7 MB/s\u001b[0m eta \u001b[36m0:00:00\u001b[0m\n",
            "\u001b[2K     \u001b[90m━━━━━━━━━━━━━━━━━━━━━━━━━━━━━━━━━━━━━━━━\u001b[0m \u001b[32m5.4/5.4 MB\u001b[0m \u001b[31m27.3 MB/s\u001b[0m eta \u001b[36m0:00:00\u001b[0m\n",
            "\u001b[2K     \u001b[90m━━━━━━━━━━━━━━━━━━━━━━━━━━━━━━━━━━━━━━━━\u001b[0m \u001b[32m53.3/53.3 kB\u001b[0m \u001b[31m3.2 MB/s\u001b[0m eta \u001b[36m0:00:00\u001b[0m\n",
            "\u001b[?25h  Building wheel for seqeval (setup.py) ... \u001b[?25l\u001b[?25hdone\n"
          ]
        }
      ],
      "source": [
        "!pip install -q tf-models-official==2.7.0"
      ]
    },
    {
      "cell_type": "code",
      "execution_count": null,
      "metadata": {
        "colab": {
          "base_uri": "https://localhost:8080/"
        },
        "id": "nI6VgtJTBnw9",
        "outputId": "12f5eb87-2e20-4244-ef6e-be23e71644df"
      },
      "outputs": [
        {
          "name": "stderr",
          "output_type": "stream",
          "text": [
            "/usr/local/lib/python3.10/dist-packages/tensorflow_addons/utils/tfa_eol_msg.py:23: UserWarning: \n",
            "\n",
            "TensorFlow Addons (TFA) has ended development and introduction of new features.\n",
            "TFA has entered a minimal maintenance and release mode until a planned end of life in May 2024.\n",
            "Please modify downstream libraries to take dependencies from other repositories in our TensorFlow community (e.g. Keras, Keras-CV, and Keras-NLP). \n",
            "\n",
            "For more information see: https://github.com/tensorflow/addons/issues/2807 \n",
            "\n",
            "  warnings.warn(\n",
            "/usr/local/lib/python3.10/dist-packages/tensorflow_addons/utils/ensure_tf_install.py:53: UserWarning: Tensorflow Addons supports using Python ops for all Tensorflow versions above or equal to 2.13.0 and strictly below 2.16.0 (nightly versions are not supported). \n",
            " The versions of TensorFlow you are currently using is 2.8.4 and is not supported. \n",
            "Some things might work, some things might not.\n",
            "If you were to encounter a bug, do not file an issue.\n",
            "If you want to make sure you're using a tested and supported configuration, either change the TensorFlow version or the TensorFlow Addons's version. \n",
            "You can find the compatibility matrix in TensorFlow Addon's readme:\n",
            "https://github.com/tensorflow/addons\n",
            "  warnings.warn(\n"
          ]
        }
      ],
      "source": [
        "import os\n",
        "\n",
        "import tensorflow as tf\n",
        "import tensorflow_hub as hub\n",
        "import tensorflow_text as text\n",
        "from official.nlp import optimization  # to create AdamW optimizer\n",
        "\n",
        "import numpy as np\n",
        "\n",
        "tf.get_logger().setLevel('ERROR')"
      ]
    },
    {
      "cell_type": "code",
      "execution_count": null,
      "metadata": {
        "colab": {
          "base_uri": "https://localhost:8080/"
        },
        "id": "hDoACZohTv3M",
        "outputId": "4cbb7949-96b3-4f1b-abdd-773bf1bd7b9b"
      },
      "outputs": [
        {
          "name": "stdout",
          "output_type": "stream",
          "text": [
            "Downloading data from file:///content/drive/Shareddrives/41043-42850-nlp/pan23-trigger-detection.zip\n",
            "1777975296/1777969619 [==============================] - 31s 0us/step\n",
            "1777983488/1777969619 [==============================] - 31s 0us/step\n"
          ]
        }
      ],
      "source": [
        "fullPath = os.path.abspath(\"pan23-trigger-detection.zip\")\n",
        "datafile = tf.keras.utils.get_file(\"pan23-trigger-detection.zip\", 'file://'+fullPath, extract=True)"
      ]
    },
    {
      "cell_type": "code",
      "execution_count": null,
      "metadata": {
        "colab": {
          "base_uri": "https://localhost:8080/"
        },
        "id": "RzcX06nVWzXB",
        "outputId": "70d80665-cc47-423f-9eec-1b403defd058"
      },
      "outputs": [
        {
          "name": "stdout",
          "output_type": "stream",
          "text": [
            "\u001b[0m\u001b[01;34mpan23-trigger-detection-test\u001b[0m/   \u001b[01;34mpan23-trigger-detection-validation\u001b[0m/\n",
            "\u001b[01;34mpan23-trigger-detection-train\u001b[0m/  readme.md\n"
          ]
        }
      ],
      "source": [
        "ls ~/.keras/datasets/pan23-trigger-detection"
      ]
    },
    {
      "cell_type": "code",
      "execution_count": null,
      "metadata": {
        "colab": {
          "base_uri": "https://localhost:8080/"
        },
        "id": "DCRAlBPAXnrW",
        "outputId": "cf2db255-dc2f-4a2f-d57b-7d49ccac64fe"
      },
      "outputs": [
        {
          "name": "stdout",
          "output_type": "stream",
          "text": [
            "/root/.keras/datasets\n"
          ]
        }
      ],
      "source": [
        "print(os.path.dirname(datafile))"
      ]
    },
    {
      "cell_type": "code",
      "execution_count": null,
      "metadata": {
        "id": "DgNfoFHSWAJY"
      },
      "outputs": [],
      "source": [
        "# pan23-trigger-detection/\n",
        "#  -> pan23-trigger-detection-train/\n",
        "#      -> labels.jsonl\n",
        "#      -> works.jsonl\n",
        "#  -> pan23-trigger-detection-valid/\n",
        "#      -> labels.jsonl\n",
        "#      -> works.jsonl\n",
        "#  -> pan23-trigger-detection-test/\n",
        "#      -> labels.jsonl\n",
        "#      -> works.jsonl\n",
        "\n",
        "dataset_dir = os.path.join(os.path.dirname(datafile), 'pan23-trigger-detection')\n",
        "\n",
        "train_dir = os.path.join(dataset_dir, 'pan23-trigger-detection-train')\n",
        "valid_dir = os.path.join(dataset_dir, 'pan23-trigger-detection-validation')\n",
        "test_dir = os.path.join(dataset_dir, 'pan23-trigger-detection-test')"
      ]
    },
    {
      "cell_type": "code",
      "execution_count": null,
      "metadata": {
        "colab": {
          "base_uri": "https://localhost:8080/"
        },
        "id": "GoGapOmcZIDh",
        "outputId": "98a14bad-9fab-468a-8211-9f086ad019d3"
      },
      "outputs": [
        {
          "name": "stdout",
          "output_type": "stream",
          "text": [
            "{\"work_id\": \"23796682\", \"labels\": [\"pornographic-content\"]}\n",
            "\n"
          ]
        }
      ],
      "source": [
        "print(open(os.path.join(valid_dir, 'labels.jsonl')).readline())"
      ]
    },
    {
      "cell_type": "code",
      "execution_count": null,
      "metadata": {
        "id": "GQgBp74ZK_29"
      },
      "outputs": [],
      "source": [
        "label_names = ['pornographic-content', 'violence', 'death', 'sexual-assault', 'abuse', 'blood', 'suicide', 'pregnancy', 'child-abuse', 'incest', 'underage', 'homophobia', 'self-harm', 'dying', 'kidnapping', 'mental-illness', 'dissection', 'eating-disorders', 'abduction', 'body-hatred', 'childbirth', 'racism', 'sexism', 'miscarriages', 'transphobia', 'abortion', 'fat-phobia', 'animal-death', 'ableism', 'classism', 'misogyny', 'animal-cruelty']"
      ]
    },
    {
      "cell_type": "code",
      "execution_count": null,
      "metadata": {
        "colab": {
          "base_uri": "https://localhost:8080/"
        },
        "id": "Hr3ePc-i2Yae",
        "outputId": "b9cb0cd8-7607-43dd-e349-30d2656e4496"
      },
      "outputs": [
        {
          "name": "stdout",
          "output_type": "stream",
          "text": [
            "[238075, 31320, 29114, 22186, 20785, 15099, 13649, 13492, 8904, 8208, 7498, 7183, 5241, 4945, 4482, 4171, 1708, 1365, 1209, 1060, 854, 738, 533, 507, 399, 377, 344, 267, 222, 208, 187, 150]\n",
            "pornographic-content 238075\n",
            "violence 29114\n",
            "death 20785\n",
            "sexual-assault 31320\n",
            "abuse 22186\n",
            "blood 15099\n",
            "suicide 8208\n",
            "pregnancy 13649\n",
            "child-abuse 7183\n",
            "incest 13492\n",
            "underage 8904\n",
            "homophobia 4945\n",
            "self-harm 5241\n",
            "dying 7498\n",
            "kidnapping 4482\n",
            "mental-illness 4171\n",
            "dissection 1708\n",
            "eating-disorders 1209\n",
            "abduction 1060\n",
            "body-hatred 1365\n",
            "childbirth 854\n",
            "racism 399\n",
            "sexism 533\n",
            "miscarriages 507\n",
            "transphobia 377\n",
            "abortion 344\n",
            "fat-phobia 738\n",
            "animal-death 208\n",
            "ableism 267\n",
            "classism 187\n",
            "misogyny 222\n",
            "animal-cruelty 150\n"
          ]
        }
      ],
      "source": [
        "import json\n",
        "\n",
        "with open(os.path.join(train_dir, 'labels.jsonl'), 'r') as json_file:\n",
        "    json_list = list(json_file)\n",
        "\n",
        "z = {label: 0 for label in label_names}\n",
        "\n",
        "for json_str in json_list[:len(json_list)]:\n",
        "    for label in json.loads(json_str)[\"labels\"]:\n",
        "        z[label] += 1\n",
        "\n",
        "z_v = list(z.values())\n",
        "z_v.sort(reverse=True)\n",
        "\n",
        "print(z_v)\n",
        "\n",
        "for c in z:\n",
        "    print(c, z[c])"
      ]
    },
    {
      "cell_type": "code",
      "execution_count": null,
      "metadata": {
        "id": "XNRFcHhb9SEi"
      },
      "outputs": [],
      "source": [
        "import json\n",
        "\n",
        "with open(os.path.join(train_dir, 'works.jsonl'), 'r') as json_file:\n",
        "    json_list = list(json_file)\n",
        "\n",
        "text_ds = [json.loads(json_str)[\"text\"] for json_str in json_list[:len(json_list)//10]]\n",
        "label_ds = [[json.loads(json_str)[\"labels\"][i] for i in range(32)] for json_str in json_list[:len(json_list)//10]]\n",
        "\n",
        "train_ds = tf.data.Dataset.from_tensor_slices((text_ds,label_ds))\n",
        "train_ds = train_ds.shuffle(32).batch(32)\n",
        "\n",
        "with open(os.path.join(valid_dir, 'works.jsonl'), 'r') as json_file:\n",
        "    json_list = list(json_file)\n",
        "\n",
        "text_ds = [json.loads(json_str)[\"text\"] for json_str in json_list[:len(json_list)]]\n",
        "label_ds = [[json.loads(json_str)[\"labels\"][i] for i in range(32)] for json_str in json_list[:len(json_list)]]\n",
        "\n",
        "valid_ds = tf.data.Dataset.from_tensor_slices((text_ds,label_ds))\n",
        "valid_ds = valid_ds.shuffle(32).batch(32)\n",
        "\n",
        "with open(os.path.join(test_dir, 'works.jsonl'), 'r') as json_file:\n",
        "    json_list = list(json_file)\n",
        "\n",
        "text_ds = [json.loads(json_str)[\"text\"] for json_str in json_list[:len(json_list)]]\n",
        "\n",
        "with open(os.path.join(test_dir, 'labels.jsonl'), 'r') as json_file:\n",
        "    json_list = list(json_file)\n",
        "\n",
        "label_ds = []\n",
        "for json_str in json_list[:len(json_list)]:\n",
        "    indexes = [label_names.index(c) for c in json.loads(json_str)[\"labels\"]]\n",
        "    label_ds.append([1 if i in indexes else 0 for i in range(32)])\n",
        "\n",
        "test_ds = tf.data.Dataset.from_tensor_slices((text_ds,label_ds))\n",
        "test_ds = test_ds.shuffle(32).batch(32)\n"
      ]
    },
    {
      "cell_type": "code",
      "execution_count": null,
      "metadata": {
        "cellView": "form",
        "colab": {
          "base_uri": "https://localhost:8080/"
        },
        "id": "y8_ctG55-uTX",
        "outputId": "6339734e-c87a-4b63-ba6e-e1f77d90a435"
      },
      "outputs": [
        {
          "name": "stdout",
          "output_type": "stream",
          "text": [
            "BERT model selected           : https://tfhub.dev/tensorflow/small_bert/bert_en_uncased_L-2_H-128_A-2/1\n",
            "Preprocess model auto-selected: https://tfhub.dev/tensorflow/bert_en_uncased_preprocess/3\n"
          ]
        }
      ],
      "source": [
        "#@title Choose a BERT model to fine-tune\n",
        "\n",
        "bert_model_name = 'small_bert/bert_en_uncased_L-2_H-128_A-2'  #@param [\"bert_en_uncased_L-12_H-768_A-12\", \"bert_en_cased_L-12_H-768_A-12\", \"bert_multi_cased_L-12_H-768_A-12\", \"small_bert/bert_en_uncased_L-2_H-128_A-2\", \"small_bert/bert_en_uncased_L-2_H-256_A-4\", \"small_bert/bert_en_uncased_L-2_H-512_A-8\", \"small_bert/bert_en_uncased_L-2_H-768_A-12\", \"small_bert/bert_en_uncased_L-4_H-128_A-2\", \"small_bert/bert_en_uncased_L-4_H-256_A-4\", \"small_bert/bert_en_uncased_L-4_H-512_A-8\", \"small_bert/bert_en_uncased_L-4_H-768_A-12\", \"small_bert/bert_en_uncased_L-6_H-128_A-2\", \"small_bert/bert_en_uncased_L-6_H-256_A-4\", \"small_bert/bert_en_uncased_L-6_H-512_A-8\", \"small_bert/bert_en_uncased_L-6_H-768_A-12\", \"small_bert/bert_en_uncased_L-8_H-128_A-2\", \"small_bert/bert_en_uncased_L-8_H-256_A-4\", \"small_bert/bert_en_uncased_L-8_H-512_A-8\", \"small_bert/bert_en_uncased_L-8_H-768_A-12\", \"small_bert/bert_en_uncased_L-10_H-128_A-2\", \"small_bert/bert_en_uncased_L-10_H-256_A-4\", \"small_bert/bert_en_uncased_L-10_H-512_A-8\", \"small_bert/bert_en_uncased_L-10_H-768_A-12\", \"small_bert/bert_en_uncased_L-12_H-128_A-2\", \"small_bert/bert_en_uncased_L-12_H-256_A-4\", \"small_bert/bert_en_uncased_L-12_H-512_A-8\", \"small_bert/bert_en_uncased_L-12_H-768_A-12\", \"albert_en_base\", \"electra_small\", \"electra_base\", \"experts_pubmed\", \"experts_wiki_books\", \"talking-heads_base\"]\n",
        "\n",
        "map_name_to_handle = {\n",
        "    'bert_en_uncased_L-12_H-768_A-12':\n",
        "        'https://tfhub.dev/tensorflow/bert_en_uncased_L-12_H-768_A-12/3',\n",
        "    'bert_en_cased_L-12_H-768_A-12':\n",
        "        'https://tfhub.dev/tensorflow/bert_en_cased_L-12_H-768_A-12/3',\n",
        "    'bert_multi_cased_L-12_H-768_A-12':\n",
        "        'https://tfhub.dev/tensorflow/bert_multi_cased_L-12_H-768_A-12/3',\n",
        "    'small_bert/bert_en_uncased_L-2_H-128_A-2':\n",
        "        'https://tfhub.dev/tensorflow/small_bert/bert_en_uncased_L-2_H-128_A-2/1',\n",
        "    'small_bert/bert_en_uncased_L-2_H-256_A-4':\n",
        "        'https://tfhub.dev/tensorflow/small_bert/bert_en_uncased_L-2_H-256_A-4/1',\n",
        "    'small_bert/bert_en_uncased_L-2_H-512_A-8':\n",
        "        'https://tfhub.dev/tensorflow/small_bert/bert_en_uncased_L-2_H-512_A-8/1',\n",
        "    'small_bert/bert_en_uncased_L-2_H-768_A-12':\n",
        "        'https://tfhub.dev/tensorflow/small_bert/bert_en_uncased_L-2_H-768_A-12/1',\n",
        "    'small_bert/bert_en_uncased_L-4_H-128_A-2':\n",
        "        'https://tfhub.dev/tensorflow/small_bert/bert_en_uncased_L-4_H-128_A-2/1',\n",
        "    'small_bert/bert_en_uncased_L-4_H-256_A-4':\n",
        "        'https://tfhub.dev/tensorflow/small_bert/bert_en_uncased_L-4_H-256_A-4/1',\n",
        "    'small_bert/bert_en_uncased_L-4_H-512_A-8':\n",
        "        'https://tfhub.dev/tensorflow/small_bert/bert_en_uncased_L-4_H-512_A-8/1',\n",
        "    'small_bert/bert_en_uncased_L-4_H-768_A-12':\n",
        "        'https://tfhub.dev/tensorflow/small_bert/bert_en_uncased_L-4_H-768_A-12/1',\n",
        "    'small_bert/bert_en_uncased_L-6_H-128_A-2':\n",
        "        'https://tfhub.dev/tensorflow/small_bert/bert_en_uncased_L-6_H-128_A-2/1',\n",
        "    'small_bert/bert_en_uncased_L-6_H-256_A-4':\n",
        "        'https://tfhub.dev/tensorflow/small_bert/bert_en_uncased_L-6_H-256_A-4/1',\n",
        "    'small_bert/bert_en_uncased_L-6_H-512_A-8':\n",
        "        'https://tfhub.dev/tensorflow/small_bert/bert_en_uncased_L-6_H-512_A-8/1',\n",
        "    'small_bert/bert_en_uncased_L-6_H-768_A-12':\n",
        "        'https://tfhub.dev/tensorflow/small_bert/bert_en_uncased_L-6_H-768_A-12/1',\n",
        "    'small_bert/bert_en_uncased_L-8_H-128_A-2':\n",
        "        'https://tfhub.dev/tensorflow/small_bert/bert_en_uncased_L-8_H-128_A-2/1',\n",
        "    'small_bert/bert_en_uncased_L-8_H-256_A-4':\n",
        "        'https://tfhub.dev/tensorflow/small_bert/bert_en_uncased_L-8_H-256_A-4/1',\n",
        "    'small_bert/bert_en_uncased_L-8_H-512_A-8':\n",
        "        'https://tfhub.dev/tensorflow/small_bert/bert_en_uncased_L-8_H-512_A-8/1',\n",
        "    'small_bert/bert_en_uncased_L-8_H-768_A-12':\n",
        "        'https://tfhub.dev/tensorflow/small_bert/bert_en_uncased_L-8_H-768_A-12/1',\n",
        "    'small_bert/bert_en_uncased_L-10_H-128_A-2':\n",
        "        'https://tfhub.dev/tensorflow/small_bert/bert_en_uncased_L-10_H-128_A-2/1',\n",
        "    'small_bert/bert_en_uncased_L-10_H-256_A-4':\n",
        "        'https://tfhub.dev/tensorflow/small_bert/bert_en_uncased_L-10_H-256_A-4/1',\n",
        "    'small_bert/bert_en_uncased_L-10_H-512_A-8':\n",
        "        'https://tfhub.dev/tensorflow/small_bert/bert_en_uncased_L-10_H-512_A-8/1',\n",
        "    'small_bert/bert_en_uncased_L-10_H-768_A-12':\n",
        "        'https://tfhub.dev/tensorflow/small_bert/bert_en_uncased_L-10_H-768_A-12/1',\n",
        "    'small_bert/bert_en_uncased_L-12_H-128_A-2':\n",
        "        'https://tfhub.dev/tensorflow/small_bert/bert_en_uncased_L-12_H-128_A-2/1',\n",
        "    'small_bert/bert_en_uncased_L-12_H-256_A-4':\n",
        "        'https://tfhub.dev/tensorflow/small_bert/bert_en_uncased_L-12_H-256_A-4/1',\n",
        "    'small_bert/bert_en_uncased_L-12_H-512_A-8':\n",
        "        'https://tfhub.dev/tensorflow/small_bert/bert_en_uncased_L-12_H-512_A-8/1',\n",
        "    'small_bert/bert_en_uncased_L-12_H-768_A-12':\n",
        "        'https://tfhub.dev/tensorflow/small_bert/bert_en_uncased_L-12_H-768_A-12/1',\n",
        "    'albert_en_base':\n",
        "        'https://tfhub.dev/tensorflow/albert_en_base/2',\n",
        "    'electra_small':\n",
        "        'https://tfhub.dev/google/electra_small/2',\n",
        "    'electra_base':\n",
        "        'https://tfhub.dev/google/electra_base/2',\n",
        "    'experts_pubmed':\n",
        "        'https://tfhub.dev/google/experts/bert/pubmed/2',\n",
        "    'experts_wiki_books':\n",
        "        'https://tfhub.dev/google/experts/bert/wiki_books/2',\n",
        "    'talking-heads_base':\n",
        "        'https://tfhub.dev/tensorflow/talkheads_ggelu_bert_en_base/1',\n",
        "}\n",
        "\n",
        "map_model_to_preprocess = {\n",
        "    'bert_en_uncased_L-12_H-768_A-12':\n",
        "        'https://tfhub.dev/tensorflow/bert_en_uncased_preprocess/3',\n",
        "    'bert_en_cased_L-12_H-768_A-12':\n",
        "        'https://tfhub.dev/tensorflow/bert_en_cased_preprocess/3',\n",
        "    'small_bert/bert_en_uncased_L-2_H-128_A-2':\n",
        "        'https://tfhub.dev/tensorflow/bert_en_uncased_preprocess/3',\n",
        "    'small_bert/bert_en_uncased_L-2_H-256_A-4':\n",
        "        'https://tfhub.dev/tensorflow/bert_en_uncased_preprocess/3',\n",
        "    'small_bert/bert_en_uncased_L-2_H-512_A-8':\n",
        "        'https://tfhub.dev/tensorflow/bert_en_uncased_preprocess/3',\n",
        "    'small_bert/bert_en_uncased_L-2_H-768_A-12':\n",
        "        'https://tfhub.dev/tensorflow/bert_en_uncased_preprocess/3',\n",
        "    'small_bert/bert_en_uncased_L-4_H-128_A-2':\n",
        "        'https://tfhub.dev/tensorflow/bert_en_uncased_preprocess/3',\n",
        "    'small_bert/bert_en_uncased_L-4_H-256_A-4':\n",
        "        'https://tfhub.dev/tensorflow/bert_en_uncased_preprocess/3',\n",
        "    'small_bert/bert_en_uncased_L-4_H-512_A-8':\n",
        "        'https://tfhub.dev/tensorflow/bert_en_uncased_preprocess/3',\n",
        "    'small_bert/bert_en_uncased_L-4_H-768_A-12':\n",
        "        'https://tfhub.dev/tensorflow/bert_en_uncased_preprocess/3',\n",
        "    'small_bert/bert_en_uncased_L-6_H-128_A-2':\n",
        "        'https://tfhub.dev/tensorflow/bert_en_uncased_preprocess/3',\n",
        "    'small_bert/bert_en_uncased_L-6_H-256_A-4':\n",
        "        'https://tfhub.dev/tensorflow/bert_en_uncased_preprocess/3',\n",
        "    'small_bert/bert_en_uncased_L-6_H-512_A-8':\n",
        "        'https://tfhub.dev/tensorflow/bert_en_uncased_preprocess/3',\n",
        "    'small_bert/bert_en_uncased_L-6_H-768_A-12':\n",
        "        'https://tfhub.dev/tensorflow/bert_en_uncased_preprocess/3',\n",
        "    'small_bert/bert_en_uncased_L-8_H-128_A-2':\n",
        "        'https://tfhub.dev/tensorflow/bert_en_uncased_preprocess/3',\n",
        "    'small_bert/bert_en_uncased_L-8_H-256_A-4':\n",
        "        'https://tfhub.dev/tensorflow/bert_en_uncased_preprocess/3',\n",
        "    'small_bert/bert_en_uncased_L-8_H-512_A-8':\n",
        "        'https://tfhub.dev/tensorflow/bert_en_uncased_preprocess/3',\n",
        "    'small_bert/bert_en_uncased_L-8_H-768_A-12':\n",
        "        'https://tfhub.dev/tensorflow/bert_en_uncased_preprocess/3',\n",
        "    'small_bert/bert_en_uncased_L-10_H-128_A-2':\n",
        "        'https://tfhub.dev/tensorflow/bert_en_uncased_preprocess/3',\n",
        "    'small_bert/bert_en_uncased_L-10_H-256_A-4':\n",
        "        'https://tfhub.dev/tensorflow/bert_en_uncased_preprocess/3',\n",
        "    'small_bert/bert_en_uncased_L-10_H-512_A-8':\n",
        "        'https://tfhub.dev/tensorflow/bert_en_uncased_preprocess/3',\n",
        "    'small_bert/bert_en_uncased_L-10_H-768_A-12':\n",
        "        'https://tfhub.dev/tensorflow/bert_en_uncased_preprocess/3',\n",
        "    'small_bert/bert_en_uncased_L-12_H-128_A-2':\n",
        "        'https://tfhub.dev/tensorflow/bert_en_uncased_preprocess/3',\n",
        "    'small_bert/bert_en_uncased_L-12_H-256_A-4':\n",
        "        'https://tfhub.dev/tensorflow/bert_en_uncased_preprocess/3',\n",
        "    'small_bert/bert_en_uncased_L-12_H-512_A-8':\n",
        "        'https://tfhub.dev/tensorflow/bert_en_uncased_preprocess/3',\n",
        "    'small_bert/bert_en_uncased_L-12_H-768_A-12':\n",
        "        'https://tfhub.dev/tensorflow/bert_en_uncased_preprocess/3',\n",
        "    'bert_multi_cased_L-12_H-768_A-12':\n",
        "        'https://tfhub.dev/tensorflow/bert_multi_cased_preprocess/3',\n",
        "    'albert_en_base':\n",
        "        'https://tfhub.dev/tensorflow/albert_en_preprocess/3',\n",
        "    'electra_small':\n",
        "        'https://tfhub.dev/tensorflow/bert_en_uncased_preprocess/3',\n",
        "    'electra_base':\n",
        "        'https://tfhub.dev/tensorflow/bert_en_uncased_preprocess/3',\n",
        "    'experts_pubmed':\n",
        "        'https://tfhub.dev/tensorflow/bert_en_uncased_preprocess/3',\n",
        "    'experts_wiki_books':\n",
        "        'https://tfhub.dev/tensorflow/bert_en_uncased_preprocess/3',\n",
        "    'talking-heads_base':\n",
        "        'https://tfhub.dev/tensorflow/bert_en_uncased_preprocess/3',\n",
        "}\n",
        "\n",
        "tfhub_handle_encoder = map_name_to_handle[bert_model_name]\n",
        "tfhub_handle_preprocess = map_model_to_preprocess[bert_model_name]\n",
        "\n",
        "print(f'BERT model selected           : {tfhub_handle_encoder}')\n",
        "print(f'Preprocess model auto-selected: {tfhub_handle_preprocess}')"
      ]
    },
    {
      "cell_type": "code",
      "execution_count": null,
      "metadata": {
        "id": "GBYfq7kuC3Je"
      },
      "outputs": [],
      "source": [
        "def build_classifier_model():\n",
        "  text_input = tf.keras.layers.Input(shape=(), dtype=tf.string, name='text')\n",
        "  preprocessing_layer = hub.KerasLayer(tfhub_handle_preprocess, name='preprocessing')\n",
        "  encoder_inputs = preprocessing_layer(text_input)\n",
        "  encoder = hub.KerasLayer(tfhub_handle_encoder, trainable=True, name='BERT_encoder')\n",
        "  outputs = encoder(encoder_inputs)\n",
        "  net = outputs['pooled_output']\n",
        "  net = tf.keras.layers.Dropout(0.1)(net)\n",
        "  net = tf.keras.layers.Dense(32, activation=None, name='classifier')(net)\n",
        "  return tf.keras.Model(text_input, net)"
      ]
    },
    {
      "cell_type": "code",
      "execution_count": null,
      "metadata": {
        "colab": {
          "base_uri": "https://localhost:8080/",
          "height": 466
        },
        "id": "dEv7Ia2HH-n6",
        "outputId": "7d98bc67-45d2-442b-a161-c2cd08a85ecf"
      },
      "outputs": [
        {
          "data": {
            "image/png": "[encoded data removed]",
            "text/plain": [
              "<IPython.core.display.Image object>"
            ]
          },
          "execution_count": 21,
          "metadata": {},
          "output_type": "execute_result"
        }
      ],
      "source": [
        "tf.keras.utils.plot_model(build_classifier_model())"
      ]
    },
    {
      "cell_type": "code",
      "execution_count": null,
      "metadata": {
        "id": "pwAq2H2dIGQr"
      },
      "outputs": [],
      "source": [
        "loss = tf.keras.losses.BinaryCrossentropy(from_logits=True)\n",
        "metrics = tf.metrics.BinaryAccuracy()"
      ]
    },
    {
      "cell_type": "code",
      "execution_count": null,
      "metadata": {
        "id": "kfq5DjYRJCWR"
      },
      "outputs": [],
      "source": [
        "epochs = 8\n",
        "steps_per_epoch = tf.data.experimental.cardinality(train_ds).numpy()\n",
        "num_train_steps = steps_per_epoch * epochs\n",
        "num_warmup_steps = int(0.1*num_train_steps)\n",
        "\n",
        "init_lr = 3e-5\n",
        "optimizer = optimization.create_optimizer(init_lr=init_lr,\n",
        "                                          num_train_steps=num_train_steps,\n",
        "                                          num_warmup_steps=num_warmup_steps,\n",
        "                                          optimizer_type='adamw')"
      ]
    },
    {
      "cell_type": "code",
      "execution_count": null,
      "metadata": {
        "id": "3eaV4r3iR4-Q"
      },
      "outputs": [],
      "source": [
        "classifier_model = build_classifier_model()\n",
        "\n",
        "classifier_model.compile(optimizer=optimizer,\n",
        "                         loss=loss,\n",
        "                         metrics=metrics)"
      ]
    },
    {
      "cell_type": "code",
      "execution_count": null,
      "metadata": {
        "colab": {
          "base_uri": "https://localhost:8080/"
        },
        "id": "_RaIN5u2R63O",
        "outputId": "acc5d06d-6d35-4f20-dee4-6381e577b638"
      },
      "outputs": [
        {
          "name": "stdout",
          "output_type": "stream",
          "text": [
            "Training model with https://tfhub.dev/tensorflow/small_bert/bert_en_uncased_L-2_H-128_A-2/1\n",
            "Epoch 1/8\n",
            "960/960 [==============================] - 1312s 1s/step - loss: 0.0970 - binary_accuracy: 0.9718 - val_loss: 0.0957 - val_binary_accuracy: 0.9718\n",
            "Epoch 2/8\n",
            "960/960 [==============================] - 1297s 1s/step - loss: 0.0957 - binary_accuracy: 0.9720 - val_loss: 0.0957 - val_binary_accuracy: 0.9714\n",
            "Epoch 3/8\n",
            "960/960 [==============================] - 1298s 1s/step - loss: 0.0949 - binary_accuracy: 0.9722 - val_loss: 0.0959 - val_binary_accuracy: 0.9715\n",
            "Epoch 4/8\n",
            "960/960 [==============================] - 1301s 1s/step - loss: 0.0941 - binary_accuracy: 0.9724 - val_loss: 0.0960 - val_binary_accuracy: 0.9716\n",
            "Epoch 5/8\n",
            "960/960 [==============================] - 1285s 1s/step - loss: 0.0933 - binary_accuracy: 0.9725 - val_loss: 0.0960 - val_binary_accuracy: 0.9715\n",
            "Epoch 6/8\n",
            "960/960 [==============================] - 1284s 1s/step - loss: 0.0929 - binary_accuracy: 0.9727 - val_loss: 0.0962 - val_binary_accuracy: 0.9715\n",
            "Epoch 7/8\n",
            "960/960 [==============================] - 1284s 1s/step - loss: 0.0925 - binary_accuracy: 0.9727 - val_loss: 0.0963 - val_binary_accuracy: 0.9714\n",
            "Epoch 8/8\n",
            "960/960 [==============================] - 1301s 1s/step - loss: 0.0922 - binary_accuracy: 0.9729 - val_loss: 0.0964 - val_binary_accuracy: 0.9712\n"
          ]
        }
      ],
      "source": [
        "print(f'Training model with {tfhub_handle_encoder}')\n",
        "history = classifier_model.fit(x=train_ds,\n",
        "                               validation_data=valid_ds,\n",
        "                               epochs=epochs,\n",
        "                               callbacks=[tf.keras.callbacks.ModelCheckpoint('checkpoints/BERTmodel2-checkpoint.keras')])"
      ]
    },
    {
      "cell_type": "code",
      "execution_count": null,
      "metadata": {
        "id": "RHGoQLjJ7xnr"
      },
      "outputs": [],
      "source": [
        "classifier_model.save('BERTmodel.keras')"
      ]
    },
    {
      "cell_type": "code",
      "execution_count": null,
      "metadata": {
        "id": "3g9vaFJvbdte"
      },
      "outputs": [],
      "source": [
        "classifier_model = tf.keras.models.load_model('BERTmodel.keras', custom_objects={\"KerasLayer\":hub.KerasLayer, \"AdamWeightDecay\":optimization.AdamWeightDecay})"
      ]
    },
    {
      "cell_type": "markdown",
      "metadata": {
        "id": "PvH3Io4a29nU"
      },
      "source": [
        "# Threshold"
      ]
    },
    {
      "cell_type": "code",
      "execution_count": null,
      "metadata": {
        "id": "ARO1G25Gl-Up"
      },
      "outputs": [],
      "source": [
        "def Precision(y_true, y_pred):\n",
        "    tp = tf.keras.metrics.TruePositives()(y_true, y_pred)\n",
        "    fp = tf.keras.metrics.FalsePositives()(y_true, y_pred)\n",
        "    return (tp/(tp + fp)).numpy() if tp+fp !=0 else 0\n",
        "\n",
        "def Recall(y_true, y_pred):\n",
        "    tp = tf.keras.metrics.TruePositives()(y_true, y_pred)\n",
        "    fn = tf.keras.metrics.FalseNegatives()(y_true, y_pred)\n",
        "    return (tp/(tp + fn)).numpy() if tp+fn !=0 else 0\n",
        "\n",
        "def F1_score(y_true, y_pred):\n",
        "    tp = tf.keras.metrics.TruePositives()(y_true, y_pred)\n",
        "    fp = tf.keras.metrics.FalsePositives()(y_true, y_pred)\n",
        "    fn = tf.keras.metrics.FalseNegatives()(y_true, y_pred)\n",
        "    return (tp/(tp + 0.5*(fp+fn))).numpy() if tp+0.5*(fp+fn)!=0 else 0\n",
        "\n",
        "def Accuracy(y_true, y_pred):\n",
        "    tp = tf.keras.metrics.TruePositives()(y_true, y_pred)\n",
        "    tn = tf.keras.metrics.TrueNegatives()(y_true, y_pred)\n",
        "    fp = tf.keras.metrics.FalsePositives()(y_true, y_pred)\n",
        "    fn = tf.keras.metrics.FalseNegatives()(y_true, y_pred)\n",
        "    return ((tp+tn)/(tp+tn+fp+fn)).numpy()\n"
      ]
    },
    {
      "cell_type": "code",
      "execution_count": null,
      "metadata": {
        "id": "O2vrEkgIX1Y0"
      },
      "outputs": [],
      "source": [
        "train_size =  307102\n",
        "valid_size = 17104\n",
        "test_size = 17040"
      ]
    },
    {
      "cell_type": "code",
      "execution_count": null,
      "metadata": {
        "id": "ZxzDDPJaFw8f"
      },
      "outputs": [],
      "source": [
        "predictions = np.zeros((2,32,valid_size))\n",
        "data_i = 0\n",
        "for text_batch, label_batch in valid_ds:\n",
        "    pred = classifier_model.predict(text_batch)\n",
        "    pred = tf.sigmoid(pred)\n",
        "    for i in range(32):\n",
        "        predictions[0,i,data_i:data_i+len(pred)] = pred[:,i].numpy()\n",
        "        predictions[1,i,data_i:data_i+len(pred)] = label_batch[:,i].numpy()\n",
        "    data_i += len(pred)\n",
        "p = np.copy(predictions)"
      ]
    },
    {
      "cell_type": "code",
      "execution_count": null,
      "metadata": {
        "colab": {
          "base_uri": "https://localhost:8080/"
        },
        "id": "Z3N8s_Hi25wn",
        "outputId": "a73adc4d-20d0-42e0-82fe-1b4d5affa6a7"
      },
      "outputs": [
        {
          "name": "stdout",
          "output_type": "stream",
          "text": [
            "0\n",
            "1\n",
            "2\n",
            "3\n",
            "4\n",
            "5\n",
            "6\n",
            "7\n",
            "8\n",
            "9\n",
            "10\n",
            "11\n",
            "12\n",
            "13\n",
            "14\n",
            "15\n",
            "16\n",
            "17\n",
            "18\n",
            "19\n",
            "20\n",
            "21\n",
            "22\n",
            "23\n",
            "24\n",
            "25\n",
            "26\n",
            "27\n",
            "28\n",
            "29\n",
            "30\n",
            "31\n",
            "[0.3829149901866913, 0.14613863825798035, 0.1160801500082016, 0.08653770387172699, 0.1096445620059967, 0.1462009698152542, 0.06480590999126434, 0.15354007482528687, 0.08559894561767578, 0.10752777755260468, 0.055606961250305176, 0.03331156075000763, 0.04791173338890076, 0.03906773030757904, 0.03360721468925476, 0.025555357336997986, 0.014494195580482483, 0.01464766263961792, 0.01294390857219696, 0.021921560168266296, 0.017425835132598877, 0.003757461905479431, 0.012240782380104065, 0.012570813298225403, 0.0057335346937179565, 0.008737251162528992, 0.008739873766899109, 0.0015406012535095215, 0.006514295935630798, 0.00442621111869812, 0.004832729697227478, 0.0046357661485672]\n"
          ]
        }
      ],
      "source": [
        "thresholds = []\n",
        "for i in range(32):\n",
        "    print(i)\n",
        "    sort_ind = np.argsort(predictions[0,i])\n",
        "    predictions = predictions[:,:,sort_ind]\n",
        "\n",
        "    first_1value = np.argwhere(predictions[1,i])[0][0]\n",
        "    last_0value = np.argwhere(1-predictions[1,i])[-1][0]\n",
        "    best_f1 = 0\n",
        "    best_threshold = 0\n",
        "    best_split_j = 0\n",
        "    for j in range(0,valid_size,10):\n",
        "        threshold = (predictions[0,i,j]+predictions[0,i,j+1])/2\n",
        "        pred = np.ones(valid_size)\n",
        "        pred[:j+1] = np.zeros(j+1)\n",
        "        f1 = F1_score(predictions[1,i], pred)\n",
        "        if f1>best_f1:\n",
        "            best_f1=f1\n",
        "            best_threshold = threshold\n",
        "            best_split_j = j\n",
        "\n",
        "    thresholds.append(best_threshold)\n",
        "\n",
        "    j = best_split_j\n",
        "\n",
        "\n",
        "print(thresholds)\n"
      ]
    },
    {
      "cell_type": "markdown",
      "metadata": {
        "id": "DerhYxko26M-"
      },
      "source": [
        "# Testing"
      ]
    },
    {
      "cell_type": "code",
      "execution_count": null,
      "metadata": {
        "colab": {
          "base_uri": "https://localhost:8080/"
        },
        "id": "tW3RzNZPr8Qo",
        "outputId": "4296ca5c-ac9a-4e43-ca10-c9d693354daa"
      },
      "outputs": [
        {
          "name": "stdout",
          "output_type": "stream",
          "text": [
            "0.4228622\n"
          ]
        }
      ],
      "source": [
        "p_bin = np.ones((32,valid_size))\n",
        "for i in range(32):\n",
        "    p_bin[i] = tf.where(p[0,i] > thresholds[i], 1, 0)\n",
        "\n",
        "f1 = F1_score(p[1], p_bin)\n",
        "print(f1)\n"
      ]
    },
    {
      "cell_type": "code",
      "execution_count": null,
      "metadata": {
        "id": "NvW_kLe0pgy6"
      },
      "outputs": [],
      "source": [
        "predictions = np.zeros((2,32,valid_size))\n",
        "data_i = 0\n",
        "for text_batch, label_batch in test_ds:\n",
        "    pred = classifier_model.predict(text_batch)\n",
        "    pred = tf.sigmoid(pred)\n",
        "    for i in range(32):\n",
        "        predictions[0,i,data_i:data_i+len(pred)] = pred[:,i].numpy()\n",
        "        predictions[1,i,data_i:data_i+len(pred)] = label_batch[:,i].numpy()\n",
        "    data_i += len(pred)\n"
      ]
    },
    {
      "cell_type": "code",
      "execution_count": null,
      "metadata": {
        "colab": {
          "base_uri": "https://localhost:8080/"
        },
        "id": "LjKHYJA0skMd",
        "outputId": "03a20057-6cd8-4c2a-a976-691dfaeb652d"
      },
      "outputs": [
        {
          "name": "stdout",
          "output_type": "stream",
          "text": [
            "               Class  Precision     Recall         F1   Accuracy\n",
            "pornographic-content   0.793385   0.975731   0.875161   0.784729\n",
            "            violence   0.189808   0.409765    0.25944   0.778707\n",
            "               death   0.161419   0.421645   0.233461   0.813026\n",
            "      sexual-assault   0.137478   0.570362   0.221553   0.592025\n",
            "               abuse   0.136975   0.272506   0.182311   0.823784\n",
            "               blood   0.198466   0.246722   0.219979   0.914172\n",
            "             suicide   0.093207   0.258206    0.13697   0.913061\n",
            "           pregnancy   0.361538   0.123847   0.184495   0.951415\n",
            "         child-abuse   0.121556     0.1875   0.147493    0.94931\n",
            "              incest   0.203125   0.225333   0.213654   0.927268\n",
            "            underage    0.08631   0.234343   0.126156   0.906045\n",
            "          homophobia   0.034079   0.116364   0.052718   0.932764\n",
            "           self-harm   0.054264   0.287671   0.091304   0.902245\n",
            "               dying   0.035278     0.1247   0.054997   0.895522\n",
            "          kidnapping   0.043165   0.144578   0.066482   0.940891\n",
            "      mental-illness   0.033175   0.301724   0.059778   0.871258\n",
            "          dissection   0.015345   0.126316   0.027366   0.950129\n",
            "    eating-disorders   0.009452   0.073529    0.01675   0.965681\n",
            "           abduction    0.00625   0.033898   0.010554   0.978075\n",
            "         body-hatred   0.005376   0.013158   0.007634   0.984799\n",
            "          childbirth   0.108108   0.083333   0.094118   0.995498\n",
            "              racism   0.003024   0.130435   0.005911   0.941008\n",
            "              sexism        0.0        0.0        0.0   0.993978\n",
            "        miscarriages   0.018182   0.103448   0.030928   0.989008\n",
            "         transphobia   0.002232   0.047619   0.004264   0.972696\n",
            "            abortion   0.006803       0.05   0.011976   0.990353\n",
            "          fat-phobia   0.002597    0.02439   0.004695    0.97521\n",
            "        animal-death   0.001823   0.583333   0.003634   0.775608\n",
            "             ableism        0.0        0.0        0.0   0.996609\n",
            "            classism        0.0        0.0        0.0    0.95311\n",
            "            misogyny        0.0        0.0        0.0   0.995206\n",
            "      animal-cruelty        0.0        0.0        0.0   0.990645\n",
            "\n",
            "             Overall   0.306979   0.666882   0.420427   0.916995\n"
          ]
        }
      ],
      "source": [
        "p_bin = np.ones((32,valid_size))\n",
        "print(\"Class\".rjust(20), \"Precision\".rjust(10), \"Recall\".rjust(10), \"F1\".rjust(10), \"Accuracy\".rjust(10))\n",
        "for i in range(32):\n",
        "    p_bin[i] = predictions[0,i] > thresholds[i]\n",
        "    print(label_names[i].rjust(20), str(round(Precision(predictions[1,i], p_bin[i]),6)).rjust(10), str(round(Recall(predictions[1,i], p_bin[i]),6)).rjust(10), str(round(F1_score(predictions[1,i], p_bin[i]),6)).rjust(10), str(round(Accuracy(predictions[1,i], p_bin[i]),6)).rjust(10))\n",
        "f1 = F1_score(predictions[1], p_bin)\n",
        "print()\n",
        "print(\"Overall\".rjust(20), str(round(Precision(predictions[1], p_bin),6)).rjust(10), str(round(Recall(predictions[1], p_bin),6)).rjust(10), str(round(F1_score(predictions[1], p_bin),6)).rjust(10), str(round(Accuracy(predictions[1], p_bin),6)).rjust(10))"
      ]
    }
  ],
  "metadata": {
    "colab": {
      "provenance": []
    },
    "kernelspec": {
      "display_name": "Python 3",
      "name": "python3"
    },
    "language_info": {
      "name": "python"
    }
  },
  "nbformat": 4,
  "nbformat_minor": 0
}
